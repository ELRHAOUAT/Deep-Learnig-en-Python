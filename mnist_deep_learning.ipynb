{
  "nbformat": 4,
  "nbformat_minor": 0,
  "metadata": {
    "colab": {
      "name": "mnist_deep_learning.ipynb",
      "provenance": [],
      "include_colab_link": true
    },
    "kernelspec": {
      "display_name": "Python 3",
      "language": "python",
      "name": "python3"
    },
    "language_info": {
      "codemirror_mode": {
        "name": "ipython",
        "version": 3
      },
      "file_extension": ".py",
      "mimetype": "text/x-python",
      "name": "python",
      "nbconvert_exporter": "python",
      "pygments_lexer": "ipython3",
      "version": "3.6.4"
    }
  },
  "cells": [
    {
      "cell_type": "markdown",
      "metadata": {
        "id": "view-in-github",
        "colab_type": "text"
      },
      "source": [
        "<a href=\"https://colab.research.google.com/github/ELRHAOUAT/Deep-Learnig-en-Python/blob/main/mnist_deep_learning.ipynb\" target=\"_parent\"><img src=\"https://colab.research.google.com/assets/colab-badge.svg\" alt=\"Open In Colab\"/></a>"
      ]
    },
    {
      "cell_type": "markdown",
      "metadata": {
        "id": "rSOIrEzqWtj4"
      },
      "source": [
        "# MNIST en Deep Learning\n",
        "\n",
        "Construire des algorithmes de Deep Learning (ANN et CNN) pour tenter de reconnaître des chiffres manuscrits."
      ]
    },
    {
      "cell_type": "markdown",
      "metadata": {
        "id": "VRXRjXnIWtkK"
      },
      "source": [
        "## Chargement des données et transformation"
      ]
    },
    {
      "cell_type": "markdown",
      "metadata": {
        "id": "ZllYYDDeWtkL"
      },
      "source": [
        "Nous allons travailler sur la base de données MNIST qui contient 60000 images en niveaux de grille de résolution 28x28, représentant les 10 chiffres de 0 à 9, ainsi qu'un jeu de test de 10000 images. Tout d'abord, chargeons ce jeu de données."
      ]
    },
    {
      "cell_type": "code",
      "metadata": {
        "id": "s6fo4wxfWtkN"
      },
      "source": [
        "from keras.datasets import mnist\n",
        "from keras.models import Sequential\n",
        "from keras.layers.core import Dense, Dropout, Activation,Flatten\n",
        "from keras.layers import Conv2D, MaxPooling2D\n",
        "from keras.optimizers import SGD\n",
        "from keras.utils import np_utils\n",
        "import matplotlib\n",
        "import matplotlib.pyplot as plt\n",
        "import scipy\n",
        "import scipy.ndimage\n",
        "import numpy as np\n",
        "from keras import backend as K\n",
        "import keras\n",
        "\n",
        "(X_train_base, y_train_base), (X_test_base, y_test_base) = mnist.load_data()\n"
      ],
      "execution_count": 2,
      "outputs": []
    },
    {
      "cell_type": "markdown",
      "metadata": {
        "id": "Ea_bSoGdWtkO"
      },
      "source": [
        "Visualisons quelques données.   "
      ]
    },
    {
      "cell_type": "code",
      "metadata": {
        "colab": {
          "base_uri": "https://localhost:8080/",
          "height": 255
        },
        "id": "qmGzhDtCWtkP",
        "scrolled": true,
        "outputId": "0aa955da-c38d-4a14-81cc-4f1acee19844"
      },
      "source": [
        "def plot_10_by_10_images(images):\n",
        "    \"\"\" Plot 100 MNIST images in a 10 by 10 table.\"\"\"\n",
        "    fig = plt.figure()\n",
        "    images = [image[3:25, 3:25] for image in images]\n",
        "    #image = np.concatenate(images, axis=1)\n",
        "    for x in range(5):\n",
        "        for y in range(5):\n",
        "            ax = fig.add_subplot(5, 5, 5*y+x+1)\n",
        "            ax.matshow(images[5*y+x+1], cmap = matplotlib.cm.binary)\n",
        "            plt.xticks(np.array([]))\n",
        "            plt.yticks(np.array([]))\n",
        "    plt.show()\n",
        "\n",
        "plot_10_by_10_images(X_train_base)"
      ],
      "execution_count": null,
      "outputs": [
        {
          "output_type": "display_data",
          "data": {
            "image/png": "[encoded data removed]",
            "text/plain": [
              "<Figure size 432x288 with 25 Axes>"
            ]
          },
          "metadata": {
            "tags": []
          }
        }
      ]
    },
    {
      "cell_type": "markdown",
      "metadata": {
        "id": "syI1r_dzWtkQ"
      },
      "source": [
        "Maintenant que nous avons chargé les données, nous allons modifier la dimension de matrices, afin de les mettre sous une forme qui pourra être traitée par nos réseaux de neurones."
      ]
    },
    {
      "cell_type": "code",
      "metadata": {
        "id": "ZXb1Au1aWtkR"
      },
      "source": [
        "subset=10000 #size\n",
        "nb_classes=10\n",
        "X_train = X_train_base[:subset].reshape(subset, 784)\n",
        "X_test = X_test_base.reshape(10000, 784)\n",
        "X_train = X_train.astype(\"float32\")\n",
        "X_test = X_test.astype(\"float32\")\n",
        "X_train /= 255\n",
        "X_test /= 255\n",
        "y_train = np_utils.to_categorical(y_train_base[:subset], nb_classes)\n",
        "y_test = np_utils.to_categorical(y_test_base, nb_classes)"
      ],
      "execution_count": null,
      "outputs": []
    },
    {
      "cell_type": "markdown",
      "metadata": {
        "id": "LBDlGk0OWtkT"
      },
      "source": [
        "Nous avons maintenant des vecteurs à la place des images."
      ]
    },
    {
      "cell_type": "code",
      "metadata": {
        "colab": {
          "base_uri": "https://localhost:8080/"
        },
        "id": "e-ZqDOcjWtkU",
        "outputId": "75d042a9-fa9f-4fbc-ec08-7f7160654605"
      },
      "source": [
        "print(X_train_base.shape)\n",
        "print(X_train.shape)\n",
        "print(y_train.shape)\n",
        "print(X_test.shape)\n",
        "print(y_train)"
      ],
      "execution_count": null,
      "outputs": [
        {
          "output_type": "stream",
          "text": [
            "(60000, 28, 28)\n",
            "(10000, 784)\n",
            "(10000, 10)\n",
            "(10000, 784)\n",
            "[[0. 0. 0. ... 0. 0. 0.]\n",
            " [1. 0. 0. ... 0. 0. 0.]\n",
            " [0. 0. 0. ... 0. 0. 0.]\n",
            " ...\n",
            " [0. 0. 0. ... 0. 0. 0.]\n",
            " [0. 0. 0. ... 0. 0. 1.]\n",
            " [0. 0. 0. ... 1. 0. 0.]]\n"
          ],
          "name": "stdout"
        }
      ]
    },
    {
      "cell_type": "markdown",
      "metadata": {
        "id": "DMyyhKGOWtkU"
      },
      "source": [
        "## Construire un réseau de neurones ( ANN )"
      ]
    },
    {
      "cell_type": "markdown",
      "metadata": {
        "id": "RF-Rl7gGWtkV"
      },
      "source": [
        "\n",
        "\n",
        "\n",
        "Nous allons créer un modèle Keras en utilisant l'api Sequential:\n",
        "* __model = Sequential()__\n",
        "\n",
        "Puis utiliser les méthodes suivantes de Keras pour ajouter des couches à ce modèle :\n",
        "\n",
        "* __model.add(Dense(nbhiden, [input_shape=(nbinput,1)], [activation='activationfunction']))__ : ajoute une couche cachée au réseau de neurones. nbhidden est le nombre de neurones de la couche. [input_shape=(nbinput,)] correspond à la dimension de l'entrée, [activation='activationfunction'] est la fonction d'activation\n",
        "* __model.add(Dropout(value))__ : applique un dropout à la couche, pour éviter le surapprentissage"
      ]
    },
    {
      "cell_type": "code",
      "metadata": {
        "colab": {
          "base_uri": "https://localhost:8080/"
        },
        "id": "XOpihwtbWtkW",
        "outputId": "15055b0c-bc16-4de2-c777-a056ce5c91f4"
      },
      "source": [
        "model = Sequential()\n",
        "model.add(Dense(12, input_shape=(784,),activation='sigmoid'))\n",
        "model.add(Dense(12,activation='sigmoid'))\n",
        "model.add(Dropout(0.5))\n",
        "model.add(Dense(nb_classes, activation='softmax'))\n",
        "    \n",
        "sgd = SGD(lr=0.1, decay=1e-6, momentum=0.9, nesterov=True)\n",
        "model.compile(loss='categorical_crossentropy',metrics=['accuracy'],  optimizer=sgd)\n",
        "\n",
        "model.summary()"
      ],
      "execution_count": null,
      "outputs": [
        {
          "output_type": "stream",
          "text": [
            "Model: \"sequential\"\n",
            "_________________________________________________________________\n",
            "Layer (type)                 Output Shape              Param #   \n",
            "=================================================================\n",
            "dense (Dense)                (None, 12)                9420      \n",
            "_________________________________________________________________\n",
            "dense_1 (Dense)              (None, 12)                156       \n",
            "_________________________________________________________________\n",
            "dropout (Dropout)            (None, 12)                0         \n",
            "_________________________________________________________________\n",
            "dense_2 (Dense)              (None, 10)                130       \n",
            "=================================================================\n",
            "Total params: 9,706\n",
            "Trainable params: 9,706\n",
            "Non-trainable params: 0\n",
            "_________________________________________________________________\n"
          ],
          "name": "stdout"
        }
      ]
    },
    {
      "cell_type": "markdown",
      "metadata": {
        "id": "hhqZk4IZWtkW"
      },
      "source": [
        "Ensuite, nous allons lancer l'apprentissage des paramètres."
      ]
    },
    {
      "cell_type": "code",
      "metadata": {
        "colab": {
          "base_uri": "https://localhost:8080/"
        },
        "id": "-xR3Z0HMWtkX",
        "outputId": "b7e480f8-0e29-4f4c-82be-6f1e7b436fa6"
      },
      "source": [
        "batch_size = 256\n",
        "epochs=20\n",
        "history_model_1 = model.fit(X_train, y_train, batch_size=batch_size, epochs=epochs,  verbose=1, validation_data=(X_test, y_test))"
      ],
      "execution_count": null,
      "outputs": [
        {
          "output_type": "stream",
          "text": [
            "Epoch 1/20\n",
            "40/40 [==============================] - 1s 14ms/step - loss: 2.4398 - accuracy: 0.1105 - val_loss: 2.2378 - val_accuracy: 0.3653\n",
            "Epoch 2/20\n",
            "40/40 [==============================] - 0s 5ms/step - loss: 2.2227 - accuracy: 0.1784 - val_loss: 2.0148 - val_accuracy: 0.5069\n",
            "Epoch 3/20\n",
            "40/40 [==============================] - 0s 5ms/step - loss: 1.9954 - accuracy: 0.2545 - val_loss: 1.6853 - val_accuracy: 0.5380\n",
            "Epoch 4/20\n",
            "40/40 [==============================] - 0s 5ms/step - loss: 1.7657 - accuracy: 0.3220 - val_loss: 1.4863 - val_accuracy: 0.5306\n",
            "Epoch 5/20\n",
            "40/40 [==============================] - 0s 5ms/step - loss: 1.6160 - accuracy: 0.3662 - val_loss: 1.3518 - val_accuracy: 0.5716\n",
            "Epoch 6/20\n",
            "40/40 [==============================] - 0s 5ms/step - loss: 1.5105 - accuracy: 0.4142 - val_loss: 1.2485 - val_accuracy: 0.6295\n",
            "Epoch 7/20\n",
            "40/40 [==============================] - 0s 5ms/step - loss: 1.4407 - accuracy: 0.4428 - val_loss: 1.1579 - val_accuracy: 0.6757\n",
            "Epoch 8/20\n",
            "40/40 [==============================] - 0s 9ms/step - loss: 1.3639 - accuracy: 0.4869 - val_loss: 1.0825 - val_accuracy: 0.7080\n",
            "Epoch 9/20\n",
            "40/40 [==============================] - 0s 6ms/step - loss: 1.3285 - accuracy: 0.5044 - val_loss: 1.0070 - val_accuracy: 0.7301\n",
            "Epoch 10/20\n",
            "40/40 [==============================] - 0s 5ms/step - loss: 1.2452 - accuracy: 0.5352 - val_loss: 0.9369 - val_accuracy: 0.7372\n",
            "Epoch 11/20\n",
            "40/40 [==============================] - 0s 5ms/step - loss: 1.2090 - accuracy: 0.5450 - val_loss: 0.8877 - val_accuracy: 0.7899\n",
            "Epoch 12/20\n",
            "40/40 [==============================] - 0s 5ms/step - loss: 1.1858 - accuracy: 0.5535 - val_loss: 0.8370 - val_accuracy: 0.7967\n",
            "Epoch 13/20\n",
            "40/40 [==============================] - 0s 5ms/step - loss: 1.1582 - accuracy: 0.5800 - val_loss: 0.8006 - val_accuracy: 0.8029\n",
            "Epoch 14/20\n",
            "40/40 [==============================] - 0s 5ms/step - loss: 1.1087 - accuracy: 0.5846 - val_loss: 0.7747 - val_accuracy: 0.8076\n",
            "Epoch 15/20\n",
            "40/40 [==============================] - 0s 5ms/step - loss: 1.0830 - accuracy: 0.6021 - val_loss: 0.7674 - val_accuracy: 0.8208\n",
            "Epoch 16/20\n",
            "40/40 [==============================] - 0s 5ms/step - loss: 1.0900 - accuracy: 0.6029 - val_loss: 0.7364 - val_accuracy: 0.8041\n",
            "Epoch 17/20\n",
            "40/40 [==============================] - 0s 5ms/step - loss: 1.0506 - accuracy: 0.6097 - val_loss: 0.7155 - val_accuracy: 0.8229\n",
            "Epoch 18/20\n",
            "40/40 [==============================] - 0s 5ms/step - loss: 1.0225 - accuracy: 0.6197 - val_loss: 0.6862 - val_accuracy: 0.8316\n",
            "Epoch 19/20\n",
            "40/40 [==============================] - 0s 5ms/step - loss: 1.0138 - accuracy: 0.6190 - val_loss: 0.6807 - val_accuracy: 0.8293\n",
            "Epoch 20/20\n",
            "40/40 [==============================] - 0s 5ms/step - loss: 1.0078 - accuracy: 0.6219 - val_loss: 0.6549 - val_accuracy: 0.8387\n"
          ],
          "name": "stdout"
        }
      ]
    },
    {
      "cell_type": "code",
      "metadata": {
        "id": "lcMkw7iMjsSq"
      },
      "source": [
        ""
      ],
      "execution_count": null,
      "outputs": []
    },
    {
      "cell_type": "code",
      "metadata": {
        "id": "FZ8N4wTfjsXC"
      },
      "source": [
        "history_model_1.history??"
      ],
      "execution_count": null,
      "outputs": []
    },
    {
      "cell_type": "code",
      "metadata": {
        "colab": {
          "base_uri": "https://localhost:8080/",
          "height": 312
        },
        "id": "5F_hZfK7kzeq",
        "outputId": "23f76e49-8d7d-4778-f3f3-7a8b254c91e5"
      },
      "source": [
        "plt.plot(history_model_1.history['accuracy'])\r\n",
        "plt.title('model accuracy')\r\n",
        "plt.xlabel('epoch')\r\n",
        "plt.ylabel('accuracy')\r\n",
        "plt.legend(['train'], loc = 'upper left')"
      ],
      "execution_count": null,
      "outputs": [
        {
          "output_type": "execute_result",
          "data": {
            "text/plain": [
              "<matplotlib.legend.Legend at 0x7f8c45909d68>"
            ]
          },
          "metadata": {
            "tags": []
          },
          "execution_count": 12
        },
        {
          "output_type": "display_data",
          "data": {
            "image/png": "[encoded data removed]",
            "text/plain": [
              "<Figure size 432x288 with 1 Axes>"
            ]
          },
          "metadata": {
            "tags": [],
            "needs_background": "light"
          }
        }
      ]
    },
    {
      "cell_type": "markdown",
      "metadata": {
        "id": "NNtdyT-mWtkX"
      },
      "source": [
        "Nous analysons les résultats. Ce réseau de neurones est-il performant ?"
      ]
    },
    {
      "cell_type": "markdown",
      "metadata": {
        "id": "NRdBi27yWtka"
      },
      "source": [
        "Voyons ce que donne notre modèle sur un exemple.\r\n",
        "\r\n",
        "\r\n"
      ]
    },
    {
      "cell_type": "code",
      "metadata": {
        "colab": {
          "base_uri": "https://localhost:8080/",
          "height": 244
        },
        "id": "QiCu5LOvWtkb",
        "outputId": "db6ad223-5996-442b-f4b9-3731da9fbd6b"
      },
      "source": [
        "def plot_mnist_digit(image):\n",
        "    \"\"\" Plot a single MNIST image.\"\"\"\n",
        "    fig = plt.figure()\n",
        "    ax = fig.add_subplot(1, 1, 1)\n",
        "    ax.matshow(image, cmap = matplotlib.cm.binary)\n",
        "    plt.xticks(np.array([]))\n",
        "    plt.yticks(np.array([]))\n",
        "    plt.show()\n",
        "loss,acc = model.evaluate(X_test, y_test,  verbose=0)\n",
        "index=800\n",
        "print('The accuracy on the test set is ',(acc*100),'%')\n",
        "plot_mnist_digit(X_test_base[index])\n",
        "cl=model.predict_classes(X_test[index].reshape((1,784)))\n",
        "\n",
        "\n",
        "print(\"le chiffre reconnu est: \", cl[0])\n",
        "print(\"le chiffre à reconnaitre  est: \", np.argmax(y_test[index]))"
      ],
      "execution_count": null,
      "outputs": [
        {
          "output_type": "error",
          "ename": "NameError",
          "evalue": "ignored",
          "traceback": [
            "\u001b[0;31m---------------------------------------------------------------------------\u001b[0m",
            "\u001b[0;31mNameError\u001b[0m                                 Traceback (most recent call last)",
            "\u001b[0;32m<ipython-input-2-a6044cf67183>\u001b[0m in \u001b[0;36m<module>\u001b[0;34m()\u001b[0m\n\u001b[1;32m      7\u001b[0m     \u001b[0mplt\u001b[0m\u001b[0;34m.\u001b[0m\u001b[0myticks\u001b[0m\u001b[0;34m(\u001b[0m\u001b[0mnp\u001b[0m\u001b[0;34m.\u001b[0m\u001b[0marray\u001b[0m\u001b[0;34m(\u001b[0m\u001b[0;34m[\u001b[0m\u001b[0;34m]\u001b[0m\u001b[0;34m)\u001b[0m\u001b[0;34m)\u001b[0m\u001b[0;34m\u001b[0m\u001b[0;34m\u001b[0m\u001b[0m\n\u001b[1;32m      8\u001b[0m     \u001b[0mplt\u001b[0m\u001b[0;34m.\u001b[0m\u001b[0mshow\u001b[0m\u001b[0;34m(\u001b[0m\u001b[0;34m)\u001b[0m\u001b[0;34m\u001b[0m\u001b[0;34m\u001b[0m\u001b[0m\n\u001b[0;32m----> 9\u001b[0;31m \u001b[0mloss\u001b[0m\u001b[0;34m,\u001b[0m\u001b[0macc\u001b[0m \u001b[0;34m=\u001b[0m \u001b[0mmodel\u001b[0m\u001b[0;34m.\u001b[0m\u001b[0mevaluate\u001b[0m\u001b[0;34m(\u001b[0m\u001b[0mX_test\u001b[0m\u001b[0;34m,\u001b[0m \u001b[0my_test\u001b[0m\u001b[0;34m,\u001b[0m  \u001b[0mverbose\u001b[0m\u001b[0;34m=\u001b[0m\u001b[0;36m0\u001b[0m\u001b[0;34m)\u001b[0m\u001b[0;34m\u001b[0m\u001b[0;34m\u001b[0m\u001b[0m\n\u001b[0m\u001b[1;32m     10\u001b[0m \u001b[0mindex\u001b[0m\u001b[0;34m=\u001b[0m\u001b[0;36m800\u001b[0m\u001b[0;34m\u001b[0m\u001b[0;34m\u001b[0m\u001b[0m\n\u001b[1;32m     11\u001b[0m \u001b[0mprint\u001b[0m\u001b[0;34m(\u001b[0m\u001b[0;34m'The accuracy on the test set is '\u001b[0m\u001b[0;34m,\u001b[0m\u001b[0;34m(\u001b[0m\u001b[0macc\u001b[0m\u001b[0;34m*\u001b[0m\u001b[0;36m100\u001b[0m\u001b[0;34m)\u001b[0m\u001b[0;34m,\u001b[0m\u001b[0;34m'%'\u001b[0m\u001b[0;34m)\u001b[0m\u001b[0;34m\u001b[0m\u001b[0;34m\u001b[0m\u001b[0m\n",
            "\u001b[0;31mNameError\u001b[0m: name 'model' is not defined"
          ]
        }
      ]
    },
    {
      "cell_type": "markdown",
      "metadata": {
        "id": "1Q6VBRphWtkc"
      },
      "source": [
        "## CNN : réseaux de neurones convolutionnels"
      ]
    },
    {
      "cell_type": "markdown",
      "metadata": {
        "id": "Twk5Hof0Wtkd"
      },
      "source": [
        "Nous allons maintenant implémenter un réseau de neurones convolutionnel.\n",
        "\n",
        "Pour cet algorithme, vous allez avoir besoin des méthodes Keras suivantes, en plus de celles déjà vues précédemment :\n",
        "\n",
        "* __model.add(Conv2D(filters, kernel_size=(size, size), [activation='activation_function'], [input_shape=input_shape]))__ : ajoute une couche de convolution au réseau de neurones. filters est le nombre de filtres de convolution. kernel_size est la taille des filtres de convolution.\n",
        "* __model.add(MaxPooling2D(pool_size=(psize, psize)))__ : ajoute une couche de max pooling. pool_size est la taille de la fenêtre de pooling."
      ]
    },
    {
      "cell_type": "code",
      "metadata": {
        "id": "0Cmt6mtDWtke"
      },
      "source": [
        "img_rows, img_cols = 28, 28\n",
        "(x_train, y_train), (x_test, y_test) = mnist.load_data()\n",
        "x_train = x_train[:subset].reshape(x_train[:subset].shape[0], img_rows, img_cols, 1)\n",
        "x_test = x_test.reshape(x_test.shape[0], img_rows, img_cols, 1)\n",
        "input_shape = (img_rows, img_cols, 1)\n",
        "x_train = x_train.astype('float32')\n",
        "x_test = x_test.astype('float32')\n",
        "x_train /= 255\n",
        "x_test /= 255\n",
        "y_train = keras.utils.to_categorical(y_train[:subset], nb_classes)\n",
        "y_test = keras.utils.to_categorical(y_test, nb_classes)\n"
      ],
      "execution_count": null,
      "outputs": []
    },
    {
      "cell_type": "markdown",
      "metadata": {
        "id": "yOPaFCG015er"
      },
      "source": [
        " Visualisons quelques données.   "
      ]
    },
    {
      "cell_type": "code",
      "metadata": {
        "colab": {
          "base_uri": "https://localhost:8080/"
        },
        "id": "w-MX4UDQWtkf",
        "outputId": "844b0a6b-d268-4efd-c2aa-224f509482de"
      },
      "source": [
        "print('x_train shape:', x_train.shape)\n",
        "print(x_train.shape[0], 'train samples')\n",
        "print(x_test.shape[0], 'test samples')"
      ],
      "execution_count": null,
      "outputs": [
        {
          "output_type": "stream",
          "text": [
            "x_train shape: (10000, 28, 28, 1)\n",
            "10000 train samples\n",
            "10000 test samples\n"
          ],
          "name": "stdout"
        }
      ]
    },
    {
      "cell_type": "markdown",
      "metadata": {
        "id": "-MTrZFXy2IxQ"
      },
      "source": [
        "Construire un réseaux de neurones convolutionnels"
      ]
    },
    {
      "cell_type": "code",
      "metadata": {
        "colab": {
          "base_uri": "https://localhost:8080/"
        },
        "id": "9yyMd9UQWtkg",
        "outputId": "36578d73-a6e9-4a66-f26b-5d5712ee36f3"
      },
      "source": [
        "model = Sequential()\n",
        "model.add(Conv2D(4, kernel_size=(3, 3),\n",
        "                 activation='relu',\n",
        "                 input_shape=input_shape))\n",
        "model.add(MaxPooling2D(pool_size=(2, 2)))\n",
        "model.add(Dropout(0.25))\n",
        "model.add(Flatten())\n",
        "model.add(Dense(10, activation='relu'))\n",
        "model.add(Dropout(0.5))\n",
        "model.add(Dense(nb_classes, activation='softmax'))\n",
        "\n",
        "sgd = SGD(lr=0.1, decay=1e-6, momentum=0.9, nesterov=True)\n",
        "model.compile(loss='categorical_crossentropy',metrics=['accuracy'],  optimizer=sgd)\n",
        "\n",
        "model.summary()"
      ],
      "execution_count": null,
      "outputs": [
        {
          "output_type": "stream",
          "text": [
            "Model: \"sequential_1\"\n",
            "_________________________________________________________________\n",
            "Layer (type)                 Output Shape              Param #   \n",
            "=================================================================\n",
            "conv2d (Conv2D)              (None, 26, 26, 4)         40        \n",
            "_________________________________________________________________\n",
            "max_pooling2d (MaxPooling2D) (None, 13, 13, 4)         0         \n",
            "_________________________________________________________________\n",
            "dropout_1 (Dropout)          (None, 13, 13, 4)         0         \n",
            "_________________________________________________________________\n",
            "flatten (Flatten)            (None, 676)               0         \n",
            "_________________________________________________________________\n",
            "dense_3 (Dense)              (None, 10)                6770      \n",
            "_________________________________________________________________\n",
            "dropout_2 (Dropout)          (None, 10)                0         \n",
            "_________________________________________________________________\n",
            "dense_4 (Dense)              (None, 10)                110       \n",
            "=================================================================\n",
            "Total params: 6,920\n",
            "Trainable params: 6,920\n",
            "Non-trainable params: 0\n",
            "_________________________________________________________________\n"
          ],
          "name": "stdout"
        }
      ]
    },
    {
      "cell_type": "markdown",
      "metadata": {
        "id": "aslA12SN4KYE"
      },
      "source": [
        "Ensuite, nous allons lancer l'apprentissage du CNN\r\n",
        "\r\n",
        "\r\n"
      ]
    },
    {
      "cell_type": "code",
      "metadata": {
        "colab": {
          "base_uri": "https://localhost:8080/"
        },
        "id": "fVGQDvONWtkn",
        "outputId": "789c1a49-af2b-4ff9-a0e3-dc568f6fa9b3"
      },
      "source": [
        "batch_size = 255\n",
        "epochs=20\n",
        "history_model_2 = model.fit(x_train, y_train, batch_size=batch_size, epochs=epochs,  verbose=1, validation_data=(x_test, y_test))"
      ],
      "execution_count": null,
      "outputs": [
        {
          "output_type": "stream",
          "text": [
            "Epoch 1/20\n",
            "40/40 [==============================] - 3s 72ms/step - loss: 2.0861 - accuracy: 0.2281 - val_loss: 1.0746 - val_accuracy: 0.7151\n",
            "Epoch 2/20\n",
            "40/40 [==============================] - 3s 66ms/step - loss: 1.4439 - accuracy: 0.4610 - val_loss: 0.6831 - val_accuracy: 0.8472\n",
            "Epoch 3/20\n",
            "40/40 [==============================] - 3s 67ms/step - loss: 1.2542 - accuracy: 0.5360 - val_loss: 0.5771 - val_accuracy: 0.8913\n",
            "Epoch 4/20\n",
            "40/40 [==============================] - 3s 69ms/step - loss: 1.1414 - accuracy: 0.5794 - val_loss: 0.5467 - val_accuracy: 0.9028\n",
            "Epoch 5/20\n",
            "40/40 [==============================] - 3s 74ms/step - loss: 1.1011 - accuracy: 0.5966 - val_loss: 0.4715 - val_accuracy: 0.9077\n",
            "Epoch 6/20\n",
            "40/40 [==============================] - 3s 69ms/step - loss: 1.0424 - accuracy: 0.6118 - val_loss: 0.4475 - val_accuracy: 0.9066\n",
            "Epoch 7/20\n",
            "40/40 [==============================] - 3s 70ms/step - loss: 1.0327 - accuracy: 0.6228 - val_loss: 0.4082 - val_accuracy: 0.9116\n",
            "Epoch 8/20\n",
            "40/40 [==============================] - 3s 69ms/step - loss: 1.0045 - accuracy: 0.6357 - val_loss: 0.4366 - val_accuracy: 0.9185\n",
            "Epoch 9/20\n",
            "40/40 [==============================] - 3s 69ms/step - loss: 0.9978 - accuracy: 0.6282 - val_loss: 0.3469 - val_accuracy: 0.9300\n",
            "Epoch 10/20\n",
            "40/40 [==============================] - 3s 69ms/step - loss: 0.9894 - accuracy: 0.6359 - val_loss: 0.3603 - val_accuracy: 0.9219\n",
            "Epoch 11/20\n",
            "40/40 [==============================] - 3s 70ms/step - loss: 1.0052 - accuracy: 0.6284 - val_loss: 0.3392 - val_accuracy: 0.9291\n",
            "Epoch 12/20\n",
            "40/40 [==============================] - 3s 70ms/step - loss: 0.9742 - accuracy: 0.6416 - val_loss: 0.3584 - val_accuracy: 0.9327\n",
            "Epoch 13/20\n",
            "40/40 [==============================] - 3s 69ms/step - loss: 0.9448 - accuracy: 0.6576 - val_loss: 0.3304 - val_accuracy: 0.9239\n",
            "Epoch 14/20\n",
            "40/40 [==============================] - 3s 69ms/step - loss: 0.9513 - accuracy: 0.6456 - val_loss: 0.3351 - val_accuracy: 0.9328\n",
            "Epoch 15/20\n",
            "40/40 [==============================] - 3s 68ms/step - loss: 0.9592 - accuracy: 0.6452 - val_loss: 0.3609 - val_accuracy: 0.9211\n",
            "Epoch 16/20\n",
            "40/40 [==============================] - 3s 69ms/step - loss: 0.9773 - accuracy: 0.6337 - val_loss: 0.3312 - val_accuracy: 0.9317\n",
            "Epoch 17/20\n",
            "40/40 [==============================] - 3s 70ms/step - loss: 0.9359 - accuracy: 0.6557 - val_loss: 0.3419 - val_accuracy: 0.9275\n",
            "Epoch 18/20\n",
            "40/40 [==============================] - 3s 71ms/step - loss: 0.9607 - accuracy: 0.6427 - val_loss: 0.3318 - val_accuracy: 0.9366\n",
            "Epoch 19/20\n",
            "40/40 [==============================] - 3s 71ms/step - loss: 0.9299 - accuracy: 0.6598 - val_loss: 0.3245 - val_accuracy: 0.9335\n",
            "Epoch 20/20\n",
            "40/40 [==============================] - 3s 69ms/step - loss: 0.9267 - accuracy: 0.6593 - val_loss: 0.3407 - val_accuracy: 0.9295\n"
          ],
          "name": "stdout"
        }
      ]
    },
    {
      "cell_type": "markdown",
      "metadata": {
        "id": "PTlaL7_I5PlZ"
      },
      "source": [
        "Voyons ce que donne notre modèle sur un exemple."
      ]
    },
    {
      "cell_type": "code",
      "metadata": {
        "colab": {
          "base_uri": "https://localhost:8080/",
          "height": 312
        },
        "id": "ByhRJnG0nlGg",
        "outputId": "551084e2-166b-46aa-ca24-06bf785d221b"
      },
      "source": [
        "plt.figure()\r\n",
        "plt.plot(history_model_1.history['accuracy'], label = \"ANN model\")\r\n",
        "plt.plot(history_model_2.history['accuracy'], label = \"CNN simple model\")\r\n",
        "plt.title('model accuracy')\r\n",
        "plt.ylabel('accuracy')\r\n",
        "plt.xlabel('epoch')\r\n",
        "plt.legend()"
      ],
      "execution_count": null,
      "outputs": [
        {
          "output_type": "execute_result",
          "data": {
            "text/plain": [
              "<matplotlib.legend.Legend at 0x7f8c45a0a588>"
            ]
          },
          "metadata": {
            "tags": []
          },
          "execution_count": 19
        },
        {
          "output_type": "display_data",
          "data": {
            "image/png": "[encoded data removed]",
            "text/plain": [
              "<Figure size 432x288 with 1 Axes>"
            ]
          },
          "metadata": {
            "tags": [],
            "needs_background": "light"
          }
        }
      ]
    },
    {
      "cell_type": "code",
      "metadata": {
        "colab": {
          "base_uri": "https://localhost:8080/",
          "height": 360
        },
        "id": "W4bKMQBqWtkp",
        "outputId": "a2f7131b-9300-4e46-ff4d-9fd95021a6b9"
      },
      "source": [
        "def plot_mnist_digit(image):\n",
        "    \"\"\" Plot a single MNIST image.\"\"\"\n",
        "    fig = plt.figure()\n",
        "    ax = fig.add_subplot(1, 1, 1)\n",
        "    ax.matshow(image, cmap = matplotlib.cm.binary)\n",
        "    plt.xticks(np.array([]))\n",
        "    plt.yticks(np.array([]))\n",
        "    plt.show()\n",
        "loss,acc = model.evaluate(x_test, y_test,  verbose=0)\n",
        "index=800\n",
        "print('The accuracy on the test set is ',(acc*100),'%')\n",
        "plot_mnist_digit(X_test_base[index])\n",
        "cl=model.predict_classes(x_test[index].reshape((1,28,28,1)))\n",
        "\n",
        "\n",
        "print(\"le chiffre reconnu est: \", cl[0])\n",
        "print(\"le chiffre à reconnaitre  est: \", np.argmax(y_test[index]))\n"
      ],
      "execution_count": null,
      "outputs": [
        {
          "output_type": "stream",
          "text": [
            "The accuracy on the test set is  92.94999837875366 %\n"
          ],
          "name": "stdout"
        },
        {
          "output_type": "display_data",
          "data": {
            "image/png": "[encoded data removed]",
            "text/plain": [
              "<Figure size 432x288 with 1 Axes>"
            ]
          },
          "metadata": {
            "tags": []
          }
        },
        {
          "output_type": "stream",
          "text": [
            "le chiffre reconnu est:  0\n",
            "le chiffre à reconnaitre  est:  8\n"
          ],
          "name": "stdout"
        },
        {
          "output_type": "stream",
          "text": [
            "/usr/local/lib/python3.6/dist-packages/tensorflow/python/keras/engine/sequential.py:450: UserWarning: `model.predict_classes()` is deprecated and will be removed after 2021-01-01. Please use instead:* `np.argmax(model.predict(x), axis=-1)`,   if your model does multi-class classification   (e.g. if it uses a `softmax` last-layer activation).* `(model.predict(x) > 0.5).astype(\"int32\")`,   if your model does binary classification   (e.g. if it uses a `sigmoid` last-layer activation).\n",
            "  warnings.warn('`model.predict_classes()` is deprecated and '\n"
          ],
          "name": "stderr"
        }
      ]
    },
    {
      "cell_type": "markdown",
      "metadata": {
        "id": "krl16hD4uqWy"
      },
      "source": [
        "# Créer un meilleur CNN, et l'entraîner\r\n",
        "**Objectif** : avoir le meilleur résultat possible\r\n",
        "* Jouer sur le nombre des couches convolutionnelles et max_pooling,\r\n",
        "* Modifier taille du convolutions et jouer sur le dropout."
      ]
    },
    {
      "cell_type": "code",
      "metadata": {
        "id": "97hwzY5yvEum",
        "colab": {
          "base_uri": "https://localhost:8080/"
        },
        "outputId": "d1849b63-3e16-484f-c420-54e1f39cf060"
      },
      "source": [
        "model = Sequential()\r\n",
        "model.add(Conv2D(32, kernel_size=(3, 3),\r\n",
        "                 activation='relu',\r\n",
        "                 input_shape=input_shape))\r\n",
        "model.add(MaxPooling2D(pool_size=(2, 2)))\r\n",
        "model.add(Conv2D(64, kernel_size=(3, 3),\r\n",
        "                 activation='relu',\r\n",
        "                 input_shape=input_shape))\r\n",
        "model.add(MaxPooling2D(pool_size=(2, 2)))\r\n",
        "model.add(Conv2D(128, kernel_size=(3, 3),\r\n",
        "                 activation='relu',\r\n",
        "                 input_shape=input_shape))\r\n",
        "model.add(MaxPooling2D(pool_size=(2, 2)))\r\n",
        "model.add(Dropout(0.25))\r\n",
        "model.add(Flatten())\r\n",
        "model.add(Dense(100, activation='relu'))\r\n",
        "model.add(Dropout(0.25))\r\n",
        "model.add(Dense(nb_classes, activation='softmax'))\r\n",
        "\r\n",
        "sgd = SGD(lr=0.1, decay=1e-6, momentum=0.9, nesterov=True)\r\n",
        "model.compile(loss='categorical_crossentropy',metrics=['accuracy'],  optimizer=sgd)\r\n",
        "\r\n",
        "model.summary()"
      ],
      "execution_count": null,
      "outputs": [
        {
          "output_type": "stream",
          "text": [
            "Model: \"sequential_2\"\n",
            "_________________________________________________________________\n",
            "Layer (type)                 Output Shape              Param #   \n",
            "=================================================================\n",
            "conv2d_1 (Conv2D)            (None, 26, 26, 32)        320       \n",
            "_________________________________________________________________\n",
            "max_pooling2d_1 (MaxPooling2 (None, 13, 13, 32)        0         \n",
            "_________________________________________________________________\n",
            "conv2d_2 (Conv2D)            (None, 11, 11, 64)        18496     \n",
            "_________________________________________________________________\n",
            "max_pooling2d_2 (MaxPooling2 (None, 5, 5, 64)          0         \n",
            "_________________________________________________________________\n",
            "conv2d_3 (Conv2D)            (None, 3, 3, 128)         73856     \n",
            "_________________________________________________________________\n",
            "max_pooling2d_3 (MaxPooling2 (None, 1, 1, 128)         0         \n",
            "_________________________________________________________________\n",
            "dropout_3 (Dropout)          (None, 1, 1, 128)         0         \n",
            "_________________________________________________________________\n",
            "flatten_1 (Flatten)          (None, 128)               0         \n",
            "_________________________________________________________________\n",
            "dense_5 (Dense)              (None, 100)               12900     \n",
            "_________________________________________________________________\n",
            "dropout_4 (Dropout)          (None, 100)               0         \n",
            "_________________________________________________________________\n",
            "dense_6 (Dense)              (None, 10)                1010      \n",
            "=================================================================\n",
            "Total params: 106,582\n",
            "Trainable params: 106,582\n",
            "Non-trainable params: 0\n",
            "_________________________________________________________________\n"
          ],
          "name": "stdout"
        }
      ]
    },
    {
      "cell_type": "markdown",
      "metadata": {
        "id": "jHUGsx9c47iU"
      },
      "source": [
        "Lancer l'apprentissage du model"
      ]
    },
    {
      "cell_type": "code",
      "metadata": {
        "id": "KqB9NCBivmWD",
        "colab": {
          "base_uri": "https://localhost:8080/"
        },
        "outputId": "89d9eb1a-fd3e-457d-e230-3db74967f9bd"
      },
      "source": [
        "batch_size = 255\r\n",
        "epochs=20\r\n",
        "history_model_3 = model.fit(x_train, y_train, batch_size=batch_size, epochs=epochs,  verbose=1, validation_data=(x_test, y_test))"
      ],
      "execution_count": null,
      "outputs": [
        {
          "output_type": "stream",
          "text": [
            "Epoch 1/20\n",
            "40/40 [==============================] - 10s 234ms/step - loss: 1.7183 - accuracy: 0.4174 - val_loss: 0.7570 - val_accuracy: 0.7429\n",
            "Epoch 2/20\n",
            "40/40 [==============================] - 9s 231ms/step - loss: 0.4311 - accuracy: 0.8732 - val_loss: 0.2865 - val_accuracy: 0.9155\n",
            "Epoch 3/20\n",
            "40/40 [==============================] - 9s 234ms/step - loss: 0.2489 - accuracy: 0.9231 - val_loss: 0.1561 - val_accuracy: 0.9510\n",
            "Epoch 4/20\n",
            "40/40 [==============================] - 9s 232ms/step - loss: 0.1873 - accuracy: 0.9459 - val_loss: 0.1245 - val_accuracy: 0.9606\n",
            "Epoch 5/20\n",
            "40/40 [==============================] - 9s 232ms/step - loss: 0.1513 - accuracy: 0.9562 - val_loss: 0.1604 - val_accuracy: 0.9520\n",
            "Epoch 6/20\n",
            "40/40 [==============================] - 9s 232ms/step - loss: 0.1320 - accuracy: 0.9599 - val_loss: 0.0969 - val_accuracy: 0.9729\n",
            "Epoch 7/20\n",
            "40/40 [==============================] - 9s 232ms/step - loss: 0.1125 - accuracy: 0.9673 - val_loss: 0.1108 - val_accuracy: 0.9680\n",
            "Epoch 8/20\n",
            "40/40 [==============================] - 9s 233ms/step - loss: 0.0918 - accuracy: 0.9730 - val_loss: 0.1120 - val_accuracy: 0.9665\n",
            "Epoch 9/20\n",
            "40/40 [==============================] - 9s 233ms/step - loss: 0.0774 - accuracy: 0.9771 - val_loss: 0.0916 - val_accuracy: 0.9750\n",
            "Epoch 10/20\n",
            "40/40 [==============================] - 9s 232ms/step - loss: 0.0704 - accuracy: 0.9799 - val_loss: 0.1007 - val_accuracy: 0.9709\n",
            "Epoch 11/20\n",
            "40/40 [==============================] - 9s 233ms/step - loss: 0.0664 - accuracy: 0.9803 - val_loss: 0.1192 - val_accuracy: 0.9663\n",
            "Epoch 12/20\n",
            "40/40 [==============================] - 9s 231ms/step - loss: 0.0614 - accuracy: 0.9823 - val_loss: 0.1346 - val_accuracy: 0.9623\n",
            "Epoch 13/20\n",
            "40/40 [==============================] - 9s 232ms/step - loss: 0.0593 - accuracy: 0.9813 - val_loss: 0.0846 - val_accuracy: 0.9780\n",
            "Epoch 14/20\n",
            "40/40 [==============================] - 9s 233ms/step - loss: 0.0497 - accuracy: 0.9835 - val_loss: 0.1337 - val_accuracy: 0.9665\n",
            "Epoch 15/20\n",
            "40/40 [==============================] - 9s 231ms/step - loss: 0.0553 - accuracy: 0.9833 - val_loss: 0.0987 - val_accuracy: 0.9714\n",
            "Epoch 16/20\n",
            "40/40 [==============================] - 9s 233ms/step - loss: 0.0528 - accuracy: 0.9852 - val_loss: 0.0931 - val_accuracy: 0.9755\n",
            "Epoch 17/20\n",
            "40/40 [==============================] - 9s 235ms/step - loss: 0.0410 - accuracy: 0.9875 - val_loss: 0.0867 - val_accuracy: 0.9771\n",
            "Epoch 18/20\n",
            "40/40 [==============================] - 9s 235ms/step - loss: 0.0367 - accuracy: 0.9885 - val_loss: 0.0977 - val_accuracy: 0.9733\n",
            "Epoch 19/20\n",
            "40/40 [==============================] - 9s 232ms/step - loss: 0.0335 - accuracy: 0.9897 - val_loss: 0.0965 - val_accuracy: 0.9757\n",
            "Epoch 20/20\n",
            "40/40 [==============================] - 9s 234ms/step - loss: 0.0247 - accuracy: 0.9916 - val_loss: 0.1017 - val_accuracy: 0.9774\n"
          ],
          "name": "stdout"
        }
      ]
    },
    {
      "cell_type": "markdown",
      "metadata": {
        "id": "3BgAh3RR5S5l"
      },
      "source": [
        "Voyons ce que donne notre modèle sur un exemple.\r\n",
        "\r\n",
        "\r\n",
        "\r\n",
        "\r\n",
        "\r\n",
        "\r\n",
        "\r\n",
        "\r\n",
        "\r\n",
        "\r\n",
        "\r\n",
        "\r\n",
        "\r\n",
        "\r\n",
        "\r\n",
        "\r\n",
        "\r\n",
        "\r\n",
        "\r\n",
        "\r\n",
        "\r\n",
        "\r\n",
        "\r\n",
        "\r\n",
        "\r\n",
        "\r\n",
        "\r\n",
        "\r\n",
        "\r\n",
        "\r\n",
        "\r\n",
        "\r\n",
        "\r\n",
        "\r\n",
        "\r\n",
        "\r\n",
        "\r\n",
        "\r\n",
        "\r\n",
        "\r\n",
        "\r\n",
        "\r\n",
        "\r\n",
        "\r\n",
        "\r\n",
        "\r\n",
        "\r\n",
        "\r\n",
        "\r\n",
        "\r\n",
        "\r\n",
        "\r\n",
        "\r\n",
        "\r\n",
        "\r\n",
        "\r\n",
        "\r\n",
        "\r\n",
        "\r\n",
        "\r\n",
        "\r\n",
        "\r\n",
        "\r\n",
        "\r\n",
        "\r\n",
        "\r\n",
        "\r\n",
        "\r\n",
        "\r\n",
        "\r\n",
        "\r\n",
        "\r\n",
        "\r\n",
        "\r\n",
        "\r\n",
        "\r\n",
        "\r\n",
        "\r\n",
        "\r\n",
        "\r\n",
        "\r\n",
        "\r\n",
        "\r\n",
        "\r\n",
        "\r\n",
        "\r\n",
        "\r\n",
        "\r\n",
        "\r\n",
        "\r\n",
        "\r\n",
        "\r\n",
        "\r\n",
        "\r\n",
        "\r\n",
        "\r\n",
        "\r\n",
        "\r\n",
        "\r\n",
        "\r\n",
        "\r\n",
        "\r\n",
        "\r\n",
        "\r\n",
        "\r\n",
        "\r\n",
        "\r\n",
        "\r\n",
        "\r\n",
        "\r\n",
        "\r\n",
        "\r\n",
        "\r\n",
        "\r\n",
        "\r\n",
        "\r\n",
        "\r\n",
        "\r\n",
        "\r\n",
        "\r\n",
        "\r\n",
        "\r\n",
        "\r\n",
        "\r\n",
        "\r\n",
        "\r\n",
        "\r\n",
        "\r\n",
        "\r\n",
        "\r\n",
        "\r\n",
        "\r\n",
        "\r\n",
        "\r\n",
        "\r\n",
        "\r\n",
        "\r\n",
        "\r\n",
        "\r\n",
        "\r\n",
        "\r\n",
        "\r\n",
        "\r\n",
        "\r\n",
        "\r\n",
        "\r\n",
        "\r\n",
        "\r\n",
        "\r\n",
        "\r\n",
        "\r\n",
        "\r\n",
        "\r\n",
        "\r\n",
        "\r\n",
        "\r\n",
        "\r\n",
        "\r\n",
        "\r\n",
        "\r\n",
        "\r\n",
        "\r\n",
        "\r\n",
        "\r\n",
        "\r\n",
        "\r\n",
        "\r\n",
        "\r\n",
        "\r\n",
        "\r\n",
        "\r\n",
        "\r\n",
        "\r\n",
        "\r\n",
        "\r\n",
        "\r\n",
        "\r\n",
        "\r\n",
        "\r\n",
        "\r\n",
        "\r\n",
        "\r\n",
        "\r\n",
        "\r\n",
        "\r\n",
        "\r\n",
        "\r\n",
        "\r\n",
        "\r\n",
        "\r\n",
        "\r\n",
        "\r\n",
        "\r\n",
        "\r\n",
        "\r\n",
        "\r\n",
        "\r\n"
      ]
    },
    {
      "cell_type": "code",
      "metadata": {
        "colab": {
          "base_uri": "https://localhost:8080/",
          "height": 73
        },
        "id": "SPZIR1gEowSQ",
        "outputId": "b61e94f3-2fba-41e8-b300-884c8f3de645"
      },
      "source": [
        "plt.figure(figsize=(12,8))\r\n",
        "plt.plot(history_model_1.history['accuracy'], label = \"ANN\")\r\n",
        "plt.plot(history_model_3.history['accuracy'], label = \"CNN\")\r\n",
        "plt.title('model accuracy')\r\n",
        "plt.ylabel('accuracy')\r\n",
        "plt.xlabel('epoch')\r\n",
        "plt.legend()\r\n",
        "plt.show()\r\n",
        "plt.savefig(\"fig.png\")"
      ],
      "execution_count": null,
      "outputs": [
        {
          "output_type": "display_data",
          "data": {
            "image/png": "[encoded data removed]",
            "text/plain": [
              "<Figure size 864x576 with 1 Axes>"
            ]
          },
          "metadata": {
            "tags": [],
            "needs_background": "light"
          }
        },
        {
          "output_type": "display_data",
          "data": {
            "text/plain": [
              "<Figure size 432x288 with 0 Axes>"
            ]
          },
          "metadata": {
            "tags": []
          }
        }
      ]
    },
    {
      "cell_type": "code",
      "metadata": {
        "colab": {
          "base_uri": "https://localhost:8080/",
          "height": 365
        },
        "id": "2-pb2CkrwjY_",
        "outputId": "a5f0b8a6-43e8-459a-a8e6-f553480ce936"
      },
      "source": [
        "def plot_mnist_digit(image):\r\n",
        "    \"\"\" Plot a single MNIST image.\"\"\"\r\n",
        "    fig = plt.figure()\r\n",
        "    ax = fig.add_subplot(1, 1, 1)\r\n",
        "    ax.matshow(image, cmap = matplotlib.cm.binary)\r\n",
        "    plt.xticks(np.array([]))\r\n",
        "    plt.yticks(np.array([]))\r\n",
        "    plt.show()\r\n",
        "loss,acc = model.evaluate(x_test, y_test,  verbose=0)\r\n",
        "index=800\r\n",
        "print('The accuracy on the test set is ',(acc*100),'%')\r\n",
        "plot_mnist_digit(X_test_base[index])\r\n",
        "cl=model.predict_classes(x_test[index].reshape((1,28,28,1)))\r\n",
        "\r\n",
        "\r\n",
        "print(\"le chiffre reconnu est: \", cl[0])\r\n",
        "print(\"le chiffre à reconnaitre  est: \", np.argmax(y_test[index]))"
      ],
      "execution_count": null,
      "outputs": [
        {
          "output_type": "stream",
          "text": [
            "The accuracy on the test set is  97.7400004863739 %\n"
          ],
          "name": "stdout"
        },
        {
          "output_type": "display_data",
          "data": {
            "image/png": "[encoded data removed]",
            "text/plain": [
              "<Figure size 432x288 with 1 Axes>"
            ]
          },
          "metadata": {
            "tags": []
          }
        },
        {
          "output_type": "stream",
          "text": [
            "le chiffre reconnu est:  8\n",
            "le chiffre à reconnaitre  est:  8\n"
          ],
          "name": "stdout"
        },
        {
          "output_type": "stream",
          "text": [
            "/usr/local/lib/python3.6/dist-packages/tensorflow/python/keras/engine/sequential.py:450: UserWarning: `model.predict_classes()` is deprecated and will be removed after 2021-01-01. Please use instead:* `np.argmax(model.predict(x), axis=-1)`,   if your model does multi-class classification   (e.g. if it uses a `softmax` last-layer activation).* `(model.predict(x) > 0.5).astype(\"int32\")`,   if your model does binary classification   (e.g. if it uses a `sigmoid` last-layer activation).\n",
            "  warnings.warn('`model.predict_classes()` is deprecated and '\n"
          ],
          "name": "stderr"
        }
      ]
    }
  ]
}